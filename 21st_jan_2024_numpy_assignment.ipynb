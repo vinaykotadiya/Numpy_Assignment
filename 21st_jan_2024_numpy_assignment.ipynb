{
 "cells": [
  {
   "cell_type": "markdown",
   "id": "e9da74d1-737e-4272-a2b6-e5614a783b8d",
   "metadata": {},
   "source": [
    "### 1. What is a Python library? Why do we use Python libraries?"
   ]
  },
  {
   "cell_type": "markdown",
   "id": "723fbd45-11a0-493a-81f8-b8eae8141205",
   "metadata": {},
   "source": [
    "A Python library is a collection of pre-written and reusable code modules that can be easily imported and used in Python scripts or programs. These libraries contain functions, classes, and methods that address specific tasks or provide specific functionalities, allowing developers to leverage existing code rather than writing everything from scratch.\n",
    "\n",
    "  There are several reasons why Python libraries are widely used:\n",
    "\n",
    "1. Code Reusability: Libraries provide a set of functions and tools that can be reused across different projects, saving time and effort for developers.\n",
    "\n",
    "2. Efficiency: Using established libraries allows developers to benefit from optimized and well-tested code, leading to more efficient and reliable programs.\n",
    "\n",
    "3. Specialized Functionality: Many libraries are designed to address specific tasks or domains, such as data analysis, machine learning, web development, or scientific computing. By using these specialized libraries, developers can focus on their application logic rather than low-level details.\n",
    "\n",
    "4. Community Collaboration: Python has a large and active community that contributes to the development of various libraries. This collaborative effort results in a wide range of high-quality libraries that cater to different needs.\n",
    "\n",
    "5. Interoperability: Python libraries are often designed to work seamlessly with each other, promoting interoperability and making it easy to combine different tools to achieve complex tasks.\n",
    "\n",
    "6. Rapid Development: By leveraging existing libraries, developers can speed up the development process and meet project deadlines more effectively.\n",
    "\n",
    "Popular Python libraries include NumPy for numerical computing, Pandas for data manipulation and analysis, Matplotlib for data visualization, TensorFlow and PyTorch for machine learning, Flask and Django for web development, and many more.\n",
    "\n",
    "In summary, Python libraries enhance productivity, enable code reuse, and provide access to a vast ecosystem of tools and functionalities, making Python a versatile and powerful programming language."
   ]
  },
  {
   "cell_type": "markdown",
   "id": "674d9680-4e1a-495e-860f-c37b7bdd317f",
   "metadata": {},
   "source": [
    "### 2. What is the difference between Numpy array and List?"
   ]
  },
  {
   "cell_type": "markdown",
   "id": "9ecaaf51-da25-4ef8-b6ef-7b0dda025da1",
   "metadata": {},
   "source": [
    "\n",
    "NumPy arrays and Python lists are both used to store and manipulate collections of data, but there are several key differences between them:\n",
    "\n",
    "Data Type and Homogeneity:\n",
    "\n",
    "   Numpy Array: Numpy arrays are homogeneous, meaning all elements of the array must be of the same data type. This allows for more efficient storage and faster operations on the data.\n",
    "   \n",
    "   List: Lists can contain elements of different data types, and each element can be a different type. This flexibility comes at the cost of increased memory overhead and potentially slower performance.\n",
    "\n",
    "\n",
    "Performance:\n",
    "\n",
    "   Numpy Array: Numpy arrays are more efficient for numerical operations and large datasets. They are implemented in C and have a contiguous block of memory, enabling optimized mathematical operations.\n",
    "   \n",
    "   List: Lists are more general-purpose and may not perform as well as NumPy arrays, especially for large datasets or numerical computations.\n",
    "\n",
    "\n",
    "Size and Memory Overhead:\n",
    "\n",
    "   Numpy Array: Numpy arrays have a more compact representation in memory compared to lists, which can lead to lower memory overhead for large datasets.\n",
    "   \n",
    "   List: Lists have more overhead due to their flexibility, which can result in larger memory consumption.\n",
    "\n",
    "\n",
    "Syntax and Functionality:\n",
    "\n",
    "   Numpy Array: Numpy provides a variety of functions and methods specifically designed for numerical operations on arrays. This includes element-wise operations, linear algebra functions, and statistical operations.\n",
    "   \n",
    "   List: Lists are more general-purpose and provide a broader range of built-in functions for general list manipulation. However, they lack the specialized functions for numerical operations found in NumPy.\n",
    "\n",
    "\n",
    "Dimensionality:\n",
    "\n",
    "   Numpy Array: Numpy arrays can be multi-dimensional, allowing for the representation of matrices, tensors, and other complex data structures.\n",
    "   \n",
    "   List: Lists are one-dimensional and need to be nested to represent multi-dimensional structures, which can be less convenient for certain types of operations."
   ]
  },
  {
   "cell_type": "markdown",
   "id": "8ed9f7c9-5709-4b61-afa6-51693df33887",
   "metadata": {},
   "source": [
    "### 3. Find the shape, size and dimension of the following array?"
   ]
  },
  {
   "cell_type": "code",
   "execution_count": 1,
   "id": "c0bdbb93-9e9d-4ceb-b5c3-02fbe1850452",
   "metadata": {},
   "outputs": [],
   "source": [
    "import numpy as np"
   ]
  },
  {
   "cell_type": "code",
   "execution_count": 2,
   "id": "98d3c9a6-f55c-45f9-9b29-b2884af92964",
   "metadata": {},
   "outputs": [
    {
     "name": "stdout",
     "output_type": "stream",
     "text": [
      "[[ 1  2  3  4]\n",
      " [ 5  6  7  8]\n",
      " [ 9 10 11 12]]\n",
      "shape:-  (3, 4)\n",
      "size:-  12\n",
      "dimension:-  2\n"
     ]
    }
   ],
   "source": [
    "arr = np.array([[1,2,3,4],[5,6,7,8],[9,10,11,12]])  # make a array using numpy\n",
    "print(arr) # print array\n",
    "print(\"shape:- \",np.shape(arr))  # this function is use for find shape of array\n",
    "print(\"size:- \",np.size(arr))  # this function is use for  find size of array\n",
    "print(\"dimension:- \",np.ndim(arr)) # this function is use for  find dimension of array"
   ]
  },
  {
   "cell_type": "markdown",
   "id": "b99d0b9e-34f4-4aae-8613-cc0b28d95701",
   "metadata": {},
   "source": [
    "### 4. Write python code to access the first row of the following array?"
   ]
  },
  {
   "cell_type": "code",
   "execution_count": 3,
   "id": "8131eae9-92e5-4970-b982-75610e1d317d",
   "metadata": {},
   "outputs": [
    {
     "name": "stdout",
     "output_type": "stream",
     "text": [
      "[[ 1  2  3  4]\n",
      " [ 5  6  7  8]\n",
      " [ 9 10 11 12]]\n",
      "First row:- [1 2 3 4]\n"
     ]
    }
   ],
   "source": [
    "arr = np.array([[1,2,3,4],[5,6,7,8],[9,10,11,12]])  # make a array using numpy\n",
    "print(arr) #print array\n",
    "print(\"First row:-\", arr[0]) # using array slicing and get 0th index of row"
   ]
  },
  {
   "cell_type": "markdown",
   "id": "fa24e755-a949-4946-92e8-acb321d2ae78",
   "metadata": {},
   "source": [
    "### 5. How do you access the element at the third row and fourth column from the given numpy array?"
   ]
  },
  {
   "cell_type": "code",
   "execution_count": 4,
   "id": "d8aff239-c11d-4687-a3e6-52464be53391",
   "metadata": {},
   "outputs": [
    {
     "name": "stdout",
     "output_type": "stream",
     "text": [
      "[[ 1  2  3  4]\n",
      " [ 5  6  7  8]\n",
      " [ 9 10 11 12]]\n",
      "ans is:-  12\n"
     ]
    }
   ],
   "source": [
    "arr = np.array([[1,2,3,4],[5,6,7,8],[9,10,11,12]])  # make a array using numpy\n",
    "print(arr) # print array\n",
    "print(\"ans is:- \",arr[2,3]) # using array slicing and get 2ed index of raw and 3ed index of column"
   ]
  },
  {
   "cell_type": "markdown",
   "id": "4a174851-dd0b-4086-ad00-a761317f19e1",
   "metadata": {},
   "source": [
    "### 6. Write code to extract all odd-indexed elements from the given numpy array?"
   ]
  },
  {
   "cell_type": "code",
   "execution_count": 5,
   "id": "10e61a6c-a2a4-46ea-93cb-fa76b05812a5",
   "metadata": {},
   "outputs": [
    {
     "name": "stdout",
     "output_type": "stream",
     "text": [
      "Original array:-\n",
      " [[ 1  2  3  4]\n",
      " [ 5  6  7  8]\n",
      " [ 9 10 11 12]]\n",
      "odd-indexed array:-\n",
      "[[ 2  4]\n",
      " [ 6  8]\n",
      " [10 12]]\n"
     ]
    }
   ],
   "source": [
    "arr = np.array([[1,2,3,4],[5,6,7,8],[9,10,11,12]])  # make a array using numpy\n",
    "print(\"Original array:-\\n\",arr) # print array\n",
    "\n",
    "result = arr[:,1::2] \n",
    "print(\"odd-indexed array:-\")\n",
    "print(result)"
   ]
  },
  {
   "cell_type": "markdown",
   "id": "3e77816a-75ca-4c76-a5ed-4713342c973a",
   "metadata": {},
   "source": [
    "### 7. How can you generate a random 3x3 matrix with values between 0 and 1?"
   ]
  },
  {
   "cell_type": "code",
   "execution_count": 6,
   "id": "a2e8201c-5326-4f48-9713-2e617edf2edb",
   "metadata": {},
   "outputs": [
    {
     "data": {
      "text/plain": [
       "array([[0.44570411, 0.7114922 , 0.46978832],\n",
       "       [0.10282527, 0.39582979, 0.23591058],\n",
       "       [0.89227888, 0.45216655, 0.13679343]])"
      ]
     },
     "execution_count": 6,
     "metadata": {},
     "output_type": "execute_result"
    }
   ],
   "source": [
    "# create a random array between 0 and 1\n",
    "arr = np.random.rand(3,3) # use rand function for generate  matrix with values between o and 1\n",
    "arr "
   ]
  },
  {
   "cell_type": "markdown",
   "id": "77f71d5b-c036-4378-a193-989ae8bbad65",
   "metadata": {},
   "source": [
    "### 8. Describe the difference between np.random.rand and np.random.randn?"
   ]
  },
  {
   "cell_type": "code",
   "execution_count": 7,
   "id": "a0e74c27-e898-4f4a-9780-c00997d8a032",
   "metadata": {},
   "outputs": [
    {
     "name": "stdout",
     "output_type": "stream",
     "text": [
      "[[0.02182329 0.29489275 0.11905751]\n",
      " [0.90402672 0.38126259 0.89893198]\n",
      " [0.79907564 0.45746458 0.88437565]]\n",
      "\n",
      "[[-0.42614563 -0.29911167  1.2567879 ]\n",
      " [-0.6889979  -0.7063268  -0.21085075]\n",
      " [ 0.83659384  0.2537455   0.20282261]]\n"
     ]
    }
   ],
   "source": [
    "# Generates random values from a uniform distribution between 0 (inclusive) and 1 (exclusive).\n",
    "arr1 = np.random.rand(3,3)\n",
    "\n",
    "# Generates random values from a standard normal distribution (mean = 0, standard deviation = 1).\n",
    "arr2 = np.random.randn(3,3)\n",
    "\n",
    "print(arr1)\n",
    "print()\n",
    "print(arr2)"
   ]
  },
  {
   "cell_type": "markdown",
   "id": "568124f3-7849-4346-a9d3-bc94e1fbae3b",
   "metadata": {},
   "source": [
    "### 9. Write code to increase the dimension of the following array?"
   ]
  },
  {
   "cell_type": "code",
   "execution_count": 8,
   "id": "008e5813-d14e-4677-938e-b4ac14d862be",
   "metadata": {},
   "outputs": [
    {
     "name": "stdout",
     "output_type": "stream",
     "text": [
      "Original array:-\n",
      " [[ 1  2  3  4]\n",
      " [ 5  6  7  8]\n",
      " [ 9 10 11 12]]\n",
      "increase dimension:- \n",
      "[[[ 1]\n",
      "  [ 2]\n",
      "  [ 3]\n",
      "  [ 4]]\n",
      "\n",
      " [[ 5]\n",
      "  [ 6]\n",
      "  [ 7]\n",
      "  [ 8]]\n",
      "\n",
      " [[ 9]\n",
      "  [10]\n",
      "  [11]\n",
      "  [12]]]\n"
     ]
    }
   ],
   "source": [
    "arr = np.array([[1,2,3,4],[5,6,7,8],[9,10,11,12]])  # make a array using numpy\n",
    "print(\"Original array:-\\n\",arr) # print array\n",
    "\n",
    "arr2 = arr[:, :,np.newaxis] # newaxis is use for increase dimension in array\n",
    "print(\"increase dimension:- \")\n",
    "print(arr2)"
   ]
  },
  {
   "cell_type": "markdown",
   "id": "72beb6dc-5825-40fa-92bd-d4adc7ce5f02",
   "metadata": {},
   "source": [
    "### 10. How to transpose the following array in NumPy?"
   ]
  },
  {
   "cell_type": "code",
   "execution_count": 9,
   "id": "d2433e66-c557-4579-b928-a00004445186",
   "metadata": {},
   "outputs": [
    {
     "name": "stdout",
     "output_type": "stream",
     "text": [
      "This is original array\n",
      "[[ 1  2  3  4]\n",
      " [ 5  6  7  8]\n",
      " [ 9 10 11 12]]\n",
      "This is transpose array.\n",
      "[[ 1  5  9]\n",
      " [ 2  6 10]\n",
      " [ 3  7 11]\n",
      " [ 4  8 12]]\n"
     ]
    }
   ],
   "source": [
    "arr = np.array([[1,2,3,4],[5,6,7,8],[9,10,11,12]])  # make a array using numpy\n",
    "print(\"This is original array\")\n",
    "print(arr) # print array\n",
    "print(\"This is transpose array.\")\n",
    "print(arr.T) # this function is use for transpose in array"
   ]
  },
  {
   "cell_type": "markdown",
   "id": "0b449f2d-d387-4d06-b6f4-ae1f0cba4145",
   "metadata": {},
   "source": [
    "### 11. Consider the following matrix:"
   ]
  },
  {
   "cell_type": "code",
   "execution_count": 10,
   "id": "0a3de3a4-70d2-40e2-acaa-c9c55b2de418",
   "metadata": {},
   "outputs": [],
   "source": [
    "# create two array and give name m_a and m_b\n",
    "m_a = np.array([[1, 2, 3, 4],[5, 6, 7, 8],[9, 10, 11, 12]]) \n",
    "m_b = np.array([[1, 2, 3, 4],[5, 6, 7, 8],[9, 10, 11, 12]])"
   ]
  },
  {
   "cell_type": "code",
   "execution_count": 11,
   "id": "0ad40234-bec5-438a-b0f3-05367da1c4f5",
   "metadata": {},
   "outputs": [
    {
     "name": "stdout",
     "output_type": "stream",
     "text": [
      "[[ 1  2  3  4]\n",
      " [ 5  6  7  8]\n",
      " [ 9 10 11 12]]\n",
      "\n",
      "[[ 1  2  3  4]\n",
      " [ 5  6  7  8]\n",
      " [ 9 10 11 12]]\n"
     ]
    }
   ],
   "source": [
    "# print both matrix\n",
    "print(m_a)\n",
    "print()\n",
    "print(m_b)"
   ]
  },
  {
   "cell_type": "code",
   "execution_count": 12,
   "id": "89e6fec5-0e1a-4b21-af09-adf815ce493a",
   "metadata": {},
   "outputs": [
    {
     "name": "stdout",
     "output_type": "stream",
     "text": [
      "[[  1   4   9  16]\n",
      " [ 25  36  49  64]\n",
      " [ 81 100 121 144]]\n"
     ]
    }
   ],
   "source": [
    "# 1. Index wise multiplication\n",
    "result = m_a * m_b \n",
    "print(result)"
   ]
  },
  {
   "cell_type": "code",
   "execution_count": 13,
   "id": "ee34687f-3e0a-4262-a9b4-ff354ae0e059",
   "metadata": {},
   "outputs": [
    {
     "name": "stdout",
     "output_type": "stream",
     "text": [
      "[[ 30  70 110]\n",
      " [ 70 174 278]\n",
      " [110 278 446]]\n"
     ]
    }
   ],
   "source": [
    "# 2. Matrix multiplication\n",
    "\n",
    "result = m_a @ m_b.T\n",
    "print(result)"
   ]
  },
  {
   "cell_type": "code",
   "execution_count": 14,
   "id": "12dd11cc-7046-4619-86c2-865b6670a9b0",
   "metadata": {},
   "outputs": [
    {
     "name": "stdout",
     "output_type": "stream",
     "text": [
      "[[ 2  4  6  8]\n",
      " [10 12 14 16]\n",
      " [18 20 22 24]]\n"
     ]
    }
   ],
   "source": [
    "# 3. Add both the maticx\n",
    "\n",
    "result = m_a + m_b\n",
    "print(result)"
   ]
  },
  {
   "cell_type": "code",
   "execution_count": 15,
   "id": "11ada7ad-1937-4a34-aa8d-280312c84f75",
   "metadata": {},
   "outputs": [
    {
     "name": "stdout",
     "output_type": "stream",
     "text": [
      "[[0 0 0 0]\n",
      " [0 0 0 0]\n",
      " [0 0 0 0]]\n"
     ]
    }
   ],
   "source": [
    "# 4. Subtract matrix B From A\n",
    "\n",
    "result = m_a - m_b\n",
    "print(result)"
   ]
  },
  {
   "cell_type": "code",
   "execution_count": 16,
   "id": "d75a0ddb-3b14-43d4-81ad-2ceb4d0f704e",
   "metadata": {},
   "outputs": [
    {
     "name": "stdout",
     "output_type": "stream",
     "text": [
      "[[1. 1. 1. 1.]\n",
      " [1. 1. 1. 1.]\n",
      " [1. 1. 1. 1.]]\n"
     ]
    }
   ],
   "source": [
    "# 5. Divide Matrix B by A\n",
    "\n",
    "result = m_b / m_a\n",
    "print(result)"
   ]
  },
  {
   "cell_type": "markdown",
   "id": "65af3e6c-dec3-4113-ae7e-9c2482bc9870",
   "metadata": {},
   "source": [
    "### 12. Which function in Numpy can be used to swap the byte order of an array?"
   ]
  },
  {
   "cell_type": "code",
   "execution_count": 17,
   "id": "749b40cf-0d34-4c02-a5e9-4bd4c79f9593",
   "metadata": {},
   "outputs": [
    {
     "name": "stdout",
     "output_type": "stream",
     "text": [
      "Original Array:\n",
      "[1. 2. 3. 4.]\n",
      "\n",
      "Swapped Array:\n",
      "[4.6006e-41 8.9683e-44 2.3049e-41 4.6007e-41]\n"
     ]
    }
   ],
   "source": [
    "\n",
    "'''\n",
    "In NumPy, the byteswap() function can be used to swap the byte order of an array. This function is used \n",
    "to change the endianness (byte order) of the array elements. It returns a new array with the byte order \n",
    "swapped. Here's an example:\n",
    "'''\n",
    "import numpy as np\n",
    "\n",
    "# Create a NumPy array\n",
    "original_array = np.array([1, 2, 3, 4], dtype=np.float32)\n",
    "\n",
    "# Swap the byte order\n",
    "swapped_array = original_array.byteswap()\n",
    "\n",
    "# Display the original and swapped arrays\n",
    "print(\"Original Array:\")\n",
    "print(original_array)\n",
    "\n",
    "print(\"\\nSwapped Array:\")\n",
    "print(swapped_array)\n"
   ]
  },
  {
   "cell_type": "markdown",
   "id": "22c8c3e6-e895-4c74-97eb-34a3fb00b00d",
   "metadata": {},
   "source": [
    "### 13. What is the significance of the np.linalg.inv function?"
   ]
  },
  {
   "cell_type": "code",
   "execution_count": 18,
   "id": "23c9be5a-ca78-4454-9315-20030abb0b33",
   "metadata": {},
   "outputs": [
    {
     "name": "stdout",
     "output_type": "stream",
     "text": [
      "[[ 0.3  0.1]\n",
      " [ 0.4 -0.2]]\n"
     ]
    }
   ],
   "source": [
    "# Coefficient matrix A\n",
    "A = np.array([[2, 1],\n",
    "              [4, -3]])\n",
    "# Use np.linalg.inv to compute the inverse of A\n",
    "A_inv = np.linalg.inv(A)\n",
    "print(A_inv)"
   ]
  },
  {
   "cell_type": "markdown",
   "id": "aef02c1b-497c-4c6b-9d58-0ac2f01bc169",
   "metadata": {},
   "source": [
    "### 14. What does the np.reshape function do, and how is it used?"
   ]
  },
  {
   "cell_type": "markdown",
   "id": "9320da2e-bfd5-401d-9280-58aa2162385c",
   "metadata": {},
   "source": [
    "The np.reshape function in NumPy is used to change the shape (dimensions) of an array without changing its data. It returns a new array with the specified shape, and the original array remains unchanged."
   ]
  },
  {
   "cell_type": "code",
   "execution_count": 19,
   "id": "d9318775-626f-41d6-9302-b40162ae0b97",
   "metadata": {},
   "outputs": [
    {
     "data": {
      "text/plain": [
       "array([[1, 2, 3, 4],\n",
       "       [5, 6, 7, 8]])"
      ]
     },
     "execution_count": 19,
     "metadata": {},
     "output_type": "execute_result"
    }
   ],
   "source": [
    "arr = np.array([1,2,3,4,5,6,7,8]) # create an array \n",
    "np.reshape(arr, (2,4)) # give two rows and 4 columns for reshape"
   ]
  },
  {
   "cell_type": "markdown",
   "id": "533fc23c-2194-405d-a067-3952712d64ec",
   "metadata": {},
   "source": [
    "### 15. What is broadcasting in Numpy?"
   ]
  },
  {
   "cell_type": "markdown",
   "id": "3265172a-6c13-4edc-a197-b818ac90e41f",
   "metadata": {},
   "source": [
    "\n",
    "Broadcasting in NumPy is a powerful feature that allows arrays with different shapes to be combined and operated on together. It enables you to perform element-wise operations on arrays of different shapes without explicitly reshaping them, making it more convenient and efficient."
   ]
  },
  {
   "cell_type": "code",
   "execution_count": 20,
   "id": "9ea21402-9095-46ec-9283-295d6ba64fb8",
   "metadata": {},
   "outputs": [],
   "source": [
    "# create two array\n",
    "arr1 = np.array([[1,2,3,4],[5,6,7,8],[1,2,3,4]]) # create an array\n",
    "arr2 = np.array([1,2,3,4]) "
   ]
  },
  {
   "cell_type": "code",
   "execution_count": 21,
   "id": "ce193296-370f-4347-8b2c-7de4ec09586f",
   "metadata": {},
   "outputs": [
    {
     "name": "stdout",
     "output_type": "stream",
     "text": [
      "arr1:-\n",
      " [[1 2 3 4]\n",
      " [5 6 7 8]\n",
      " [1 2 3 4]]\n",
      "\n",
      "arr2:-\n",
      " [1 2 3 4]\n",
      "\n",
      "Final:-\n",
      " [[ 2  4  6  8]\n",
      " [ 6  8 10 12]\n",
      " [ 2  4  6  8]]\n"
     ]
    }
   ],
   "source": [
    "# print first array\n",
    "print(\"arr1:-\\n\",arr1)\n",
    "# print second array\n",
    "print(\"\\narr2:-\\n\",arr2)\n",
    "# make a sum of matrix using brodcasting\n",
    "print(\"\\nFinal:-\\n\",arr1 + arr2)"
   ]
  }
 ],
 "metadata": {
  "kernelspec": {
   "display_name": "Python 3 (ipykernel)",
   "language": "python",
   "name": "python3"
  },
  "language_info": {
   "codemirror_mode": {
    "name": "ipython",
    "version": 3
   },
   "file_extension": ".py",
   "mimetype": "text/x-python",
   "name": "python",
   "nbconvert_exporter": "python",
   "pygments_lexer": "ipython3",
   "version": "3.10.8"
  }
 },
 "nbformat": 4,
 "nbformat_minor": 5
}
